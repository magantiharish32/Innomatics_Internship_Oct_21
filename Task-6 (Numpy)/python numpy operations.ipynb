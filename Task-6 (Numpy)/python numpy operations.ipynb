{
 "cells": [
  {
   "cell_type": "markdown",
   "metadata": {},
   "source": [
    "# Python Numpy functions"
   ]
  },
  {
   "cell_type": "markdown",
   "metadata": {},
   "source": [
    "## Code 1"
   ]
  },
  {
   "cell_type": "code",
   "execution_count": 2,
   "metadata": {},
   "outputs": [
    {
     "name": "stdout",
     "output_type": "stream",
     "text": [
      "1 2 3 4 -8 -10\n",
      "[-10.  -8.   4.   3.   2.   1.]\n"
     ]
    }
   ],
   "source": [
    "## Print the given array in reverse order\n",
    "import numpy as np\n",
    "\n",
    "def arrays(arr):\n",
    "    return(np.array(arr[::-1], float))\n",
    "\n",
    "arr = input().strip().split(' ')\n",
    "result = arrays(arr)\n",
    "print(result)"
   ]
  },
  {
   "cell_type": "markdown",
   "metadata": {},
   "source": [
    "## Code 2"
   ]
  },
  {
   "cell_type": "code",
   "execution_count": 3,
   "metadata": {},
   "outputs": [
    {
     "name": "stdout",
     "output_type": "stream",
     "text": [
      "1 2 3 4 5 6 7 8 9\n",
      "[[1 2 3]\n",
      " [4 5 6]\n",
      " [7 8 9]]\n"
     ]
    }
   ],
   "source": [
    "## Reshape the given array into 3*3 Matrix\n",
    "\n",
    "import numpy as np\n",
    "print(np.array(input().split(),int).reshape(3,3))"
   ]
  },
  {
   "cell_type": "markdown",
   "metadata": {},
   "source": [
    "## Code 3"
   ]
  },
  {
   "cell_type": "code",
   "execution_count": 4,
   "metadata": {},
   "outputs": [
    {
     "name": "stdout",
     "output_type": "stream",
     "text": [
      "2 2\n",
      "1 2\n",
      "3 4\n",
      "[[1 3]\n",
      " [2 4]]\n",
      "[1 2 3 4]\n"
     ]
    }
   ],
   "source": [
    "## finding the transpose and Flatten in the given matrix\n",
    "\n",
    "import numpy as np\n",
    "\n",
    "n,m = map(int,input().split())\n",
    "array = np.array([input().strip().split() for _ in range(n)],int)\n",
    "\n",
    "print(array.transpose())\n",
    "print(array.flatten())"
   ]
  },
  {
   "cell_type": "markdown",
   "metadata": {},
   "source": [
    "## Code 4"
   ]
  },
  {
   "cell_type": "code",
   "execution_count": 5,
   "metadata": {},
   "outputs": [
    {
     "name": "stdout",
     "output_type": "stream",
     "text": [
      "4 3 2\n",
      "1 2\n",
      "1 2\n",
      "1 2\n",
      "1 2\n",
      "3 4\n",
      "3 4\n",
      "3 4\n",
      "[[1 2]\n",
      " [1 2]\n",
      " [1 2]\n",
      " [1 2]\n",
      " [3 4]\n",
      " [3 4]\n",
      " [3 4]]\n"
     ]
    }
   ],
   "source": [
    "## Concatenating the two arrays\n",
    "import numpy as np\n",
    "\n",
    "a,b,c = map(int,input().split())\n",
    "arr_A = np.array([input().strip().split() for _ in range(a)],int)\n",
    "arr_B = np.array([input().strip().split() for _ in range(b)],int)\n",
    "\n",
    "print(np.concatenate((arr_A,arr_B),axis = 0))"
   ]
  },
  {
   "cell_type": "markdown",
   "metadata": {},
   "source": [
    "## Code 5 "
   ]
  },
  {
   "cell_type": "code",
   "execution_count": null,
   "metadata": {},
   "outputs": [],
   "source": [
    "# Finding the zeros and ones \n",
    "\n",
    "import numpy as np\n",
    "\n",
    "nums = tuple(map(int,input().split()))\n",
    "\n",
    "print(np.zeros(nums, dtype = np.int))\n",
    "print(np.ones(nums,dtype = np.int))"
   ]
  },
  {
   "cell_type": "markdown",
   "metadata": {},
   "source": [
    "## Code 6"
   ]
  },
  {
   "cell_type": "code",
   "execution_count": 2,
   "metadata": {},
   "outputs": [
    {
     "name": "stdout",
     "output_type": "stream",
     "text": [
      "3 3\n",
      "[[ 1.  0.  0.]\n",
      " [ 0.  1.  0.]\n",
      " [ 0.  0.  1.]]\n"
     ]
    }
   ],
   "source": [
    "## Printing the eye and identity matrix\n",
    "\n",
    "import numpy as np\n",
    "n,m = map(int,input().split())\n",
    "np.set_printoptions(legacy = '1.13')\n",
    "print(np.eye(n,m))"
   ]
  },
  {
   "cell_type": "markdown",
   "metadata": {},
   "source": [
    "## Code 7"
   ]
  },
  {
   "cell_type": "code",
   "execution_count": 3,
   "metadata": {},
   "outputs": [
    {
     "name": "stdout",
     "output_type": "stream",
     "text": [
      "1 4\n",
      "2 4 6 8\n",
      "3 5 7 9\n",
      "[[ 5  9 13 17]]\n",
      "[[-1 -1 -1 -1]]\n",
      "[[ 6 20 42 72]]\n",
      "[[0 0 0 0]]\n",
      "[[2 4 6 8]]\n",
      "[[        8      1024    279936 134217728]]\n"
     ]
    }
   ],
   "source": [
    "import numpy as np\n",
    "\n",
    "n,m = map(int,input().split())\n",
    "A = np.array([list(map(int,input().split())) for _ in range(n)],int)\n",
    "B = np.array([list(map(int,input().split())) for _ in range(n)],int)\n",
    "print(np.add(A,B),np.subtract(A,B),np.multiply(A,B),np.floor_divide(A,B)\n",
    "      ,np.mod(A,B),np.power(A,B),sep='\\n')"
   ]
  },
  {
   "cell_type": "markdown",
   "metadata": {},
   "source": [
    "## Code 8 "
   ]
  },
  {
   "cell_type": "code",
   "execution_count": 4,
   "metadata": {},
   "outputs": [
    {
     "name": "stdout",
     "output_type": "stream",
     "text": [
      "1.1 2.2 3.3 4.4 5.5 6.6 7.7 8.8 9.9\n",
      "[ 1.  2.  3.  4.  5.  6.  7.  8.  9.]\n",
      "[  2.   3.   4.   5.   6.   7.   8.   9.  10.]\n",
      "[  1.   2.   3.   4.   6.   7.   8.   9.  10.]\n"
     ]
    }
   ],
   "source": [
    "## Print Floor,Ceil,rint from a array\n",
    "\n",
    "import numpy as np\n",
    "np.set_printoptions(legacy = '1.13')\n",
    "l = list(map(float,input().split()))\n",
    "arr = np.array(l)\n",
    "print(np.floor(arr))\n",
    "print(np.ceil(arr))\n",
    "print(np.rint(arr))"
   ]
  },
  {
   "cell_type": "markdown",
   "metadata": {},
   "source": [
    "## Code 9 "
   ]
  },
  {
   "cell_type": "code",
   "execution_count": 5,
   "metadata": {},
   "outputs": [
    {
     "name": "stdout",
     "output_type": "stream",
     "text": [
      "2 2\n",
      "1 2\n",
      "3 4\n",
      "24\n"
     ]
    }
   ],
   "source": [
    "## find the sum and prod of given value\n",
    "\n",
    "import numpy as np\n",
    "\n",
    "n,m = map(int,input().split())\n",
    "A = np.array([input().split() for _ in range(n)],int)\n",
    "print(np.prod(np.sum(A,axis=0),axis=0))"
   ]
  },
  {
   "cell_type": "markdown",
   "metadata": {},
   "source": [
    "## Code 10"
   ]
  },
  {
   "cell_type": "code",
   "execution_count": 6,
   "metadata": {},
   "outputs": [
    {
     "name": "stdout",
     "output_type": "stream",
     "text": [
      "4 2\n",
      "2 5\n",
      "3 7\n",
      "1 3\n",
      "4 0\n",
      "3\n"
     ]
    }
   ],
   "source": [
    "## finding the max and min value \n",
    "\n",
    "import numpy as np\n",
    "\n",
    "n,m = map(int,input().split())\n",
    "list1 = []\n",
    "for i in range(n):\n",
    "    l =list(map(int,input().split()))\n",
    "    list1.append(l)\n",
    "arr = np.array(list1)\n",
    "print(np.max(np.min(arr,axis = 1)))"
   ]
  },
  {
   "cell_type": "markdown",
   "metadata": {},
   "source": [
    "## Code 11 "
   ]
  },
  {
   "cell_type": "code",
   "execution_count": 1,
   "metadata": {},
   "outputs": [
    {
     "name": "stdout",
     "output_type": "stream",
     "text": [
      "2 2\n",
      "1 2\n",
      "3 4\n",
      "[1.5 3.5]\n",
      "[1. 1.]\n",
      "1.11803398875\n"
     ]
    }
   ],
   "source": [
    "## Finding the mean,var and std of the given array\n",
    "\n",
    "import numpy as np \n",
    "\n",
    "n,m = map(int, input().split())\n",
    "b = []\n",
    "for i in range(n):\n",
    "    a = list(map(int, input().split()))\n",
    "    b.append(a)\n",
    "\n",
    "b = np.array(b)\n",
    "\n",
    "#np.set_printoptions(legacy='1.13')\n",
    "print(np.mean(b, axis = 1))\n",
    "print(np.var(b, axis = 0))\n",
    "output = np.std(b)\n",
    "print(output.round(12))"
   ]
  },
  {
   "cell_type": "markdown",
   "metadata": {},
   "source": [
    "## Code 12 "
   ]
  },
  {
   "cell_type": "code",
   "execution_count": 2,
   "metadata": {},
   "outputs": [
    {
     "name": "stdout",
     "output_type": "stream",
     "text": [
      "2\n",
      "1 2\n",
      "3 4\n",
      "1 2\n",
      "3 4\n",
      "[[ 7 10]\n",
      " [15 22]]\n"
     ]
    }
   ],
   "source": [
    "## Finding the dot product of given array\n",
    "import numpy as np\n",
    "\n",
    "n = int(input())\n",
    "A = np.array([input().split() for i in range(n)],int)\n",
    "B = np.array([input().split() for i in range(n)],int)\n",
    "print(A.dot(B))"
   ]
  },
  {
   "cell_type": "markdown",
   "metadata": {},
   "source": [
    "## Code 13 "
   ]
  },
  {
   "cell_type": "code",
   "execution_count": 4,
   "metadata": {},
   "outputs": [
    {
     "name": "stdout",
     "output_type": "stream",
     "text": [
      "0 1\n",
      "2 3\n",
      "3\n",
      "[[0 0]\n",
      " [2 3]]\n"
     ]
    }
   ],
   "source": [
    "## finding the inner and outer \n",
    "import numpy as np\n",
    "a = np.array(input().split(),int)\n",
    "b = np.array(input().split(),int)\n",
    "print(np.inner(a,b))\n",
    "print(np.outer(a,b))"
   ]
  },
  {
   "cell_type": "markdown",
   "metadata": {},
   "source": [
    "## Code 14"
   ]
  },
  {
   "cell_type": "code",
   "execution_count": 5,
   "metadata": {},
   "outputs": [
    {
     "name": "stdout",
     "output_type": "stream",
     "text": [
      "1.1 2 3\n",
      "0\n",
      "3.0\n"
     ]
    }
   ],
   "source": [
    "## finding the polynomial factor\n",
    "\n",
    "import numpy as np\n",
    "\n",
    "l = list(map(float,input().split()))\n",
    "x = int(input())\n",
    "arr = np.array(l)\n",
    "print(np.polyval(arr,x))"
   ]
  },
  {
   "cell_type": "markdown",
   "metadata": {},
   "source": [
    "## Code 15 "
   ]
  },
  {
   "cell_type": "code",
   "execution_count": 6,
   "metadata": {},
   "outputs": [
    {
     "name": "stdout",
     "output_type": "stream",
     "text": [
      "2\n",
      "1.1 1.1\n",
      "1.1 1.1\n",
      "0.0\n"
     ]
    }
   ],
   "source": [
    "## finding the linear algebra \n",
    "import numpy as np\n",
    "\n",
    "n = int(input())\n",
    "arr = np.array([input().split() for i in range(n)],dtype=float)\n",
    "deterval = np.linalg.det(arr)\n",
    "print(deterval.round(2))"
   ]
  },
  {
   "cell_type": "code",
   "execution_count": null,
   "metadata": {},
   "outputs": [],
   "source": []
  }
 ],
 "metadata": {
  "kernelspec": {
   "display_name": "Python 3",
   "language": "python",
   "name": "python3"
  },
  "language_info": {
   "codemirror_mode": {
    "name": "ipython",
    "version": 3
   },
   "file_extension": ".py",
   "mimetype": "text/x-python",
   "name": "python",
   "nbconvert_exporter": "python",
   "pygments_lexer": "ipython3",
   "version": "3.7.4"
  }
 },
 "nbformat": 4,
 "nbformat_minor": 2
}
