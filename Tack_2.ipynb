{
 "cells": [
  {
   "cell_type": "markdown",
   "metadata": {},
   "source": [
    "# Task 2 (Python Programming)"
   ]
  },
  {
   "cell_type": "markdown",
   "metadata": {},
   "source": [
    "## Code 1 \n",
    "### List Comprehension Problem"
   ]
  },
  {
   "cell_type": "code",
   "execution_count": 3,
   "metadata": {},
   "outputs": [
    {
     "name": "stdout",
     "output_type": "stream",
     "text": [
      "1\n",
      "1\n",
      "1\n",
      "2\n",
      "[[0, 0, 0], [0, 0, 1], [0, 1, 0], [1, 0, 0], [1, 1, 1]]\n"
     ]
    }
   ],
   "source": [
    "if __name__ == '__main__':\n",
    "    x = int(input())\n",
    "    y = int(input())\n",
    "    z = int(input())\n",
    "    n = int(input())\n",
    "    \n",
    "    S = [[i,j,k] for i in range(x+1) for j in range(y+1) for k in range(z+1) if i+j+k!=n]\n",
    "    print(S)"
   ]
  },
  {
   "cell_type": "markdown",
   "metadata": {},
   "source": [
    "## Code 2 \n",
    "### print the second largest or Runnerup number in the array"
   ]
  },
  {
   "cell_type": "code",
   "execution_count": 8,
   "metadata": {},
   "outputs": [
    {
     "name": "stdout",
     "output_type": "stream",
     "text": [
      "5\n",
      "2 4 3 6 5\n",
      "5\n"
     ]
    }
   ],
   "source": [
    "if __name__ == '__main__':\n",
    "    n = int(input())\n",
    "    arr = list(map(int, input().split()))\n",
    "    \n",
    "    arr.sort()\n",
    "    print(arr[(arr.index(max(arr)))-1])"
   ]
  },
  {
   "cell_type": "markdown",
   "metadata": {},
   "source": [
    "## Code 3\n",
    "###  Find the Least score of the students by creating a  Nested list"
   ]
  },
  {
   "cell_type": "code",
   "execution_count": 10,
   "metadata": {},
   "outputs": [
    {
     "name": "stdout",
     "output_type": "stream",
     "text": [
      "5\n",
      "Harry\n",
      "37.21\n",
      "Berry\n",
      "37.21\n",
      "Tina\n",
      "37.2\n",
      "Akriti\n",
      "41\n",
      "Harsh\n",
      "39\n",
      "Berry\n",
      "Harry\n"
     ]
    }
   ],
   "source": [
    "marks_card = []\n",
    "score_card = []\n",
    "if __name__ == '__main__':\n",
    "    for _ in range(int(input())):\n",
    "        name = input()\n",
    "        score = float(input())\n",
    "        marks_card+=[[name,score]]\n",
    "        score_card+=[score]\n",
    "    x=sorted(set(score_card))[1]\n",
    "    \n",
    "    for n,s in sorted(marks_card):\n",
    "        if s==x:\n",
    "            print(n)"
   ]
  },
  {
   "cell_type": "markdown",
   "metadata": {},
   "source": [
    "## Code 4\n",
    "### Find the Average of  Students Given in the input data"
   ]
  },
  {
   "cell_type": "code",
   "execution_count": 11,
   "metadata": {},
   "outputs": [
    {
     "name": "stdout",
     "output_type": "stream",
     "text": [
      "3\n",
      "krishna 67 68 69\n",
      "Arjun 70 98 63\n",
      "Venu  52 56 60\n",
      "Venu\n",
      "56.00\n"
     ]
    }
   ],
   "source": [
    "if __name__ == '__main__':\n",
    "    n = int(input())\n",
    "    student_marks = {}\n",
    "    for _ in range(n):\n",
    "        name, *line = input().split()\n",
    "        scores = list(map(float, line))\n",
    "        student_marks[name] = scores\n",
    "    query_name = input()\n",
    "    \n",
    "    s=0\n",
    "    \n",
    "    for i in student_marks[query_name]:\n",
    "        s=s+i\n",
    "    print(\"{0:.2f}\".format(s/3))"
   ]
  },
  {
   "cell_type": "markdown",
   "metadata": {},
   "source": [
    "## Code 5 \n",
    "### List operations "
   ]
  },
  {
   "cell_type": "code",
   "execution_count": 13,
   "metadata": {},
   "outputs": [
    {
     "name": "stdout",
     "output_type": "stream",
     "text": [
      "12\n",
      "insert 0 5\n",
      "insert 1 10\n",
      "insert 0 6\n",
      "print\n",
      "[6, 5, 10]\n",
      "remove 6\n",
      "append 9\n",
      "append 1\n",
      "sort\n",
      "print\n",
      "[1, 5, 9, 10]\n",
      "pop\n",
      "reverse\n",
      "print\n",
      "[9, 5, 1]\n"
     ]
    }
   ],
   "source": [
    "if __name__ == '__main__':\n",
    "    N = int(input())\n",
    "    result = []\n",
    "    for n in range(N):\n",
    "        x = input().split( ) \n",
    "        for i in range(1,len(x)):\n",
    "            x[i] = int(x[i])\n",
    "        if x[0] == 'append':\n",
    "            result.append(x[1])\n",
    "        elif x[0] == 'insert':\n",
    "            result.insert(x[1],x[2])\n",
    "        elif x[0] == 'remove':\n",
    "            result.remove(x[1])\n",
    "        elif x[0] == 'pop':\n",
    "            result.pop()\n",
    "        elif x[0] == 'sort':\n",
    "            result.sort()\n",
    "        elif x[0] == 'reverse':\n",
    "            result.reverse()\n",
    "        elif x[0] == 'print':\n",
    "            print(result)"
   ]
  },
  {
   "cell_type": "markdown",
   "metadata": {},
   "source": [
    "## Code 6\n",
    "### Applying the Hash function for the given tuple input data"
   ]
  },
  {
   "cell_type": "code",
   "execution_count": 14,
   "metadata": {},
   "outputs": [
    {
     "name": "stdout",
     "output_type": "stream",
     "text": [
      "2\n",
      "1 2\n",
      "3713081631934410656\n"
     ]
    }
   ],
   "source": [
    "if __name__ == '__main__':\n",
    "    n = int(input())\n",
    "    integer_list = tuple(map(int, input().split()))\n",
    "    print(hash(integer_list))"
   ]
  },
  {
   "cell_type": "markdown",
   "metadata": {},
   "source": [
    "## Code 7\n",
    "### Introduction to sets"
   ]
  },
  {
   "cell_type": "code",
   "execution_count": 2,
   "metadata": {},
   "outputs": [
    {
     "name": "stdout",
     "output_type": "stream",
     "text": [
      "10\n",
      "161 165 171 182 156 186 175 168 170 160\n",
      "169.4\n"
     ]
    }
   ],
   "source": [
    "def average(array):\n",
    "    array = set(array)\n",
    "    return sum(set(array))/len(array)\n",
    "if __name__ == '__main__':\n",
    "    n = int(input())\n",
    "    arr = list(map(int, input().split()))\n",
    "    result = average(arr)\n",
    "    print(result)"
   ]
  },
  {
   "cell_type": "markdown",
   "metadata": {},
   "source": [
    "## Code 8\n",
    "### Finding the Happiness Count between Set A and Set B in the given input data"
   ]
  },
  {
   "cell_type": "code",
   "execution_count": 3,
   "metadata": {},
   "outputs": [
    {
     "name": "stdout",
     "output_type": "stream",
     "text": [
      "3 2\n",
      "1 5 3\n",
      "3 1\n",
      "5 7\n",
      "1\n"
     ]
    }
   ],
   "source": [
    "n,m = map(int,input().split())\n",
    "array =list(map(int,input().split()))\n",
    "A = set(map(int,input().split()))\n",
    "B = set(map(int,input().split()))\n",
    "print(sum((i in A)-(i in B)for i in array))"
   ]
  },
  {
   "cell_type": "markdown",
   "metadata": {},
   "source": [
    "## Code 9\n",
    "### Find the Symmentric Diffrence between two sets"
   ]
  },
  {
   "cell_type": "code",
   "execution_count": 5,
   "metadata": {},
   "outputs": [
    {
     "name": "stdout",
     "output_type": "stream",
     "text": [
      "4\n",
      "2 4 6 8\n",
      "4\n",
      "2 4 10 12\n",
      "6\n",
      "8\n",
      "10\n",
      "12\n"
     ]
    }
   ],
   "source": [
    "a,b = (int(input()),input().split())\n",
    "c,d = (int(input()),input().split())\n",
    "x = set(b)\n",
    "y = set(d)\n",
    "p = y.difference(x)\n",
    "q = x.difference(y)\n",
    "r = p.union(q)\n",
    "print('\\n'.join(sorted(r,key=int)))"
   ]
  },
  {
   "cell_type": "markdown",
   "metadata": {},
   "source": [
    "## Code 10 \n",
    "### Find the Distinct Country in a given set"
   ]
  },
  {
   "cell_type": "code",
   "execution_count": 8,
   "metadata": {},
   "outputs": [
    {
     "name": "stdout",
     "output_type": "stream",
     "text": [
      "5\n",
      "India\n",
      "England\n",
      "Itlay\n",
      "India\n",
      "Australia\n",
      "4\n"
     ]
    }
   ],
   "source": [
    "n = int(input())\n",
    "set1 = set()\n",
    "for i in range(n):\n",
    "    set1.add(input())\n",
    "print(len(set1))"
   ]
  },
  {
   "cell_type": "markdown",
   "metadata": {},
   "source": [
    "## Code 11\n",
    "### Calculating the Set Operations like discard,remove,pop etc to given input "
   ]
  },
  {
   "cell_type": "code",
   "execution_count": 10,
   "metadata": {},
   "outputs": [
    {
     "name": "stdout",
     "output_type": "stream",
     "text": [
      "9\n",
      "1 2 3 4 5 6 7 8 9 \n",
      "10\n",
      "pop\n",
      "remove 9\n",
      "discard 9\n",
      "discard 8\n",
      "remove 7\n",
      "pop\n",
      "discard 6\n",
      "remove 5\n",
      "pop\n",
      "discard 5\n",
      "4\n"
     ]
    }
   ],
   "source": [
    "n = int(input())\n",
    "s = set(map(int, input().split()))\n",
    "m = int(input())\n",
    "for i in range(m):\n",
    "    s1=list(input().split())\n",
    "    if s1[0]==\"pop\":\n",
    "        s.pop()\n",
    "    elif s1[0]==\"remove\":\n",
    "        s.remove(int(s1[1]))\n",
    "    elif s1[0]==\"discard\":\n",
    "        s.discard(int(s1[1]))\n",
    "sum=0\n",
    "for i in s:\n",
    "    sum = sum+i\n",
    "print(sum)"
   ]
  },
  {
   "cell_type": "markdown",
   "metadata": {},
   "source": [
    "## Code 12\n",
    "### Calculate the Union in between two given sets and find number of students in Class"
   ]
  },
  {
   "cell_type": "code",
   "execution_count": 11,
   "metadata": {},
   "outputs": [
    {
     "name": "stdout",
     "output_type": "stream",
     "text": [
      "9\n",
      "1 2 3 4 5 6 7 8 9\n",
      "9\n",
      "10 1 2 3 15 20 50 6 8\n",
      "13\n"
     ]
    }
   ],
   "source": [
    "n = int(input())\n",
    "n1 = set(map(int,input().split()))\n",
    "m = int(input())\n",
    "m1 = set(map(int,input().split()))\n",
    "ans = n1.union(m1)\n",
    "count = 0\n",
    "for i in ans:\n",
    "    count += 1\n",
    "print(count)"
   ]
  },
  {
   "cell_type": "markdown",
   "metadata": {},
   "source": [
    "## Code 13\n",
    "### Find the Intersection in between the two sets "
   ]
  },
  {
   "cell_type": "code",
   "execution_count": 12,
   "metadata": {},
   "outputs": [
    {
     "name": "stdout",
     "output_type": "stream",
     "text": [
      "9\n",
      "1 2 3 4 5 6 7 8 9 \n",
      "9\n",
      "10 1 2 3 12 6 8 14\n",
      "5\n"
     ]
    }
   ],
   "source": [
    "n = int(input())\n",
    "n1 = set(map(int,input().split()))\n",
    "m = int(input())\n",
    "m1 = set(map(int,input().split()))\n",
    "ans = n1.intersection(m1)\n",
    "count = 0\n",
    "for i in ans:\n",
    "    count += 1\n",
    "print(count)"
   ]
  },
  {
   "cell_type": "markdown",
   "metadata": {},
   "source": [
    "## Code 14\n",
    "### Find the Difference value in the two sets "
   ]
  },
  {
   "cell_type": "code",
   "execution_count": 13,
   "metadata": {},
   "outputs": [
    {
     "name": "stdout",
     "output_type": "stream",
     "text": [
      "9\n",
      "1 2 3 4 5 6 7 8 9 \n",
      "9\n",
      "10 1 2 3 12 6 8 14\n",
      "4\n"
     ]
    }
   ],
   "source": [
    "n = int(input())\n",
    "n1 = set(map(int,input().split()))\n",
    "m = int(input())\n",
    "m1 = set(map(int,input().split()))\n",
    "ans = n1.difference(m1)\n",
    "count = 0\n",
    "for i in ans:\n",
    "    count += 1\n",
    "print(count)"
   ]
  },
  {
   "cell_type": "markdown",
   "metadata": {},
   "source": [
    "## Code 15\n",
    "### Find the Symmentric Difference Between two sets"
   ]
  },
  {
   "cell_type": "code",
   "execution_count": 16,
   "metadata": {},
   "outputs": [
    {
     "name": "stdout",
     "output_type": "stream",
     "text": [
      "9\n",
      "1 2 3 4 5 6 7 8 9\n",
      "9\n",
      "10 1 2 3 11 21 55 6 8\n",
      "8\n"
     ]
    }
   ],
   "source": [
    "n = int(input())\n",
    "n1 = set(map(int,input().split()))\n",
    "m = int(input())\n",
    "m1 = set(map(int,input().split()))\n",
    "ans = n1.symmetric_difference(m1)\n",
    "count = 0\n",
    "for i in ans:\n",
    "    count += 1\n",
    "print(count)"
   ]
  },
  {
   "cell_type": "markdown",
   "metadata": {},
   "source": [
    "## Code 16\n",
    "### Find the Set Mutations on the given input data"
   ]
  },
  {
   "cell_type": "code",
   "execution_count": 2,
   "metadata": {},
   "outputs": [
    {
     "name": "stdout",
     "output_type": "stream",
     "text": [
      "16\n",
      " 1 2 3 4 5 6 7 8 9 10 11 12 13 14 24 52\n",
      " 4\n",
      "intersection_update 10\n",
      "2 3 5 6 8 9 1 4 7 11\n",
      "update 2\n",
      "55 66\n",
      "symmetric_difference_update 5\n",
      "22 7 35 62 58\n",
      "difference_update 7\n",
      "11 22 35 55 58 62 66\n",
      "38\n"
     ]
    }
   ],
   "source": [
    "n = int(input())\n",
    "a = set(map(int,input().split()))\n",
    "for i in range (int(input())):\n",
    "    c=input().split()\n",
    "    s=set(map(int,input().split()))\n",
    "    if c[0]=='intersection_update':\n",
    "        a&=s\n",
    "    elif c[0]=='update':\n",
    "        a|=s\n",
    "    elif c[0]=='difference_update':\n",
    "        a-=s\n",
    "    elif c[0]=='symmetric_difference_update':\n",
    "        a^=s\n",
    "print(sum(a))"
   ]
  },
  {
   "cell_type": "markdown",
   "metadata": {},
   "source": [
    "## Code17\n",
    "### Finding captian room in given list of input data"
   ]
  },
  {
   "cell_type": "code",
   "execution_count": 33,
   "metadata": {},
   "outputs": [
    {
     "name": "stdout",
     "output_type": "stream",
     "text": [
      "5\n",
      "1 2 3 6 5 4 4 2 5 3 6 1 6 5 3 2 4 1 2 5 1 4 3 6 8 4 3 1 5 6 2\n",
      "8\n"
     ]
    }
   ],
   "source": [
    "k = int(input())\n",
    "rooms = list(map(int,input().split()))\n",
    "a = set()\n",
    "b = set()\n",
    "for room in rooms:\n",
    "    if room not in a:\n",
    "        a.add(room)\n",
    "        b.add(room)\n",
    "    else:\n",
    "        b.discard(room)\n",
    "b = list(b)\n",
    "print(b[0])"
   ]
  },
  {
   "cell_type": "markdown",
   "metadata": {},
   "source": [
    "## Code 18\n",
    "### Checking the Sub set in a given two sets"
   ]
  },
  {
   "cell_type": "code",
   "execution_count": 34,
   "metadata": {},
   "outputs": [
    {
     "name": "stdout",
     "output_type": "stream",
     "text": [
      "3\n",
      "5\n",
      "1 2 3 5 6\n",
      "9\n",
      "9 8 5 6 3 2 1 4 7\n",
      "True\n",
      "1\n",
      "2\n",
      "5\n",
      "3 6 5 4 1\n",
      "False\n",
      "7\n",
      "1 2 3 5 6 8 9\n",
      "3\n",
      "9 8 2\n",
      "False\n"
     ]
    }
   ],
   "source": [
    "def checker():\n",
    "    x =int(input())\n",
    "    s1 = set(map(int,input().split()))\n",
    "    y = int(input())\n",
    "    s2 = set(map(int,input().split()))\n",
    " \n",
    "    l = []\n",
    "    for i in s1:\n",
    "        if i in s2:\n",
    "            l.append(i)\n",
    "    l = set(l)\n",
    "    if l == s1:\n",
    "        print(True)\n",
    "    else:\n",
    "        print(False)\n",
    "        \n",
    "t = int(input())\n",
    "for i in range(t):\n",
    "    checker()\n",
    "    "
   ]
  },
  {
   "cell_type": "markdown",
   "metadata": {},
   "source": [
    "## Code 19\n",
    "### Finding the Strict Superset in a given sets"
   ]
  },
  {
   "cell_type": "code",
   "execution_count": 35,
   "metadata": {},
   "outputs": [
    {
     "name": "stdout",
     "output_type": "stream",
     "text": [
      "1 2 3 4 5 6 7 8 9 10 11 12 23 45 84 78\n",
      "2\n",
      "1 2 3 4 5\n",
      "100 11 12\n",
      "False\n"
     ]
    }
   ],
   "source": [
    "def checker():\n",
    "    sub = set(map(int,input().split()))\n",
    "    if sub.issubset(a):\n",
    "        if len(a) == len(sub):\n",
    "            l.append(0)\n",
    "        else:\n",
    "            l.append(1)\n",
    "    else:\n",
    "        l.append(0)\n",
    "\n",
    "a = set(map(int,input().split()))\n",
    "n = int(input())\n",
    "l = []\n",
    "for i in range(n):\n",
    "    checker()\n",
    "if all(l) ==1:\n",
    "    print(True)\n",
    "else:\n",
    "    print(False)"
   ]
  },
  {
   "cell_type": "code",
   "execution_count": null,
   "metadata": {},
   "outputs": [],
   "source": []
  }
 ],
 "metadata": {
  "kernelspec": {
   "display_name": "Python 3",
   "language": "python",
   "name": "python3"
  },
  "language_info": {
   "codemirror_mode": {
    "name": "ipython",
    "version": 3
   },
   "file_extension": ".py",
   "mimetype": "text/x-python",
   "name": "python",
   "nbconvert_exporter": "python",
   "pygments_lexer": "ipython3",
   "version": "3.7.4"
  }
 },
 "nbformat": 4,
 "nbformat_minor": 2
}
