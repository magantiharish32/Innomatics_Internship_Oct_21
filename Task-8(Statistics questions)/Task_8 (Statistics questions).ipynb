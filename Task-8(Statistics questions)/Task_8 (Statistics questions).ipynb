{
 "cells": [
  {
   "cell_type": "markdown",
   "metadata": {},
   "source": [
    "# Task-8 Statistics Questions"
   ]
  },
  {
   "cell_type": "markdown",
   "metadata": {},
   "source": [
    "## Code 1"
   ]
  },
  {
   "cell_type": "code",
   "execution_count": 1,
   "metadata": {},
   "outputs": [
    {
     "name": "stdout",
     "output_type": "stream",
     "text": [
      "1.09 1\n",
      "0.696\n"
     ]
    }
   ],
   "source": [
    "## calculating  the Binomial distribution problem\n",
    "\n",
    "from math import factorial\n",
    "\n",
    "def b(n,x,p):\n",
    "    return factorial(n)//factorial(n-x)//factorial(x) * (p ** x) * (1-p) ** (n-x)\n",
    "\n",
    "boys,girls = map(float,input().split())\n",
    "p = boys/(boys + girls)\n",
    "r = b(6,3,p) + b(6,4,p) +b(6,5,p) +b(6,6,p)\n",
    "print(\"%.3f\" % r)"
   ]
  },
  {
   "cell_type": "markdown",
   "metadata": {},
   "source": [
    "## Code 2 "
   ]
  },
  {
   "cell_type": "code",
   "execution_count": null,
   "metadata": {},
   "outputs": [],
   "source": [
    "# Calculating the binomial distribution problem \n",
    "\n",
    "from math import factorial\n",
    "\n",
    "def b(n,x,p):\n",
    "    return factorial(n)//factorial(n-x)//factorial(x)*(p**x)*(1-p)**(n-x)\n",
    "\n",
    "p,n = map(int,input().split())\n",
    "\n",
    "p = p/100\n",
    "\n",
    "r = b(n,0,p) + b(n,1,p) + b(n,2,p)\n",
    "print(\"%.3f\" % r)\n",
    "r = sum(b(n,i,p) for i in range(2,n+1))\n",
    "print(\"%.3f\"% r)"
   ]
  },
  {
   "cell_type": "markdown",
   "metadata": {},
   "source": [
    "## Code 3"
   ]
  },
  {
   "cell_type": "code",
   "execution_count": 9,
   "metadata": {},
   "outputs": [
    {
     "name": "stdout",
     "output_type": "stream",
     "text": [
      "0.401\n",
      "0.341\n"
     ]
    }
   ],
   "source": [
    "## Calculating the Normal disribution problem\n",
    "\n",
    "import math \n",
    "\n",
    "mean,std = 20,2\n",
    "\n",
    "cdf = lambda x: 0.5 * (1 + math.erf((x - mean)/(std*(2**0.5))))\n",
    "\n",
    "# less than 19.5\n",
    "\n",
    "print('{:.3f}'.format(cdf(19.5)))\n",
    "\n",
    "# between 20 and 22\n",
    "\n",
    "print('{:.3f}'.format((cdf(22)-cdf(20))))"
   ]
  },
  {
   "cell_type": "markdown",
   "metadata": {},
   "source": [
    "## Code 4 "
   ]
  },
  {
   "cell_type": "code",
   "execution_count": 16,
   "metadata": {},
   "outputs": [
    {
     "name": "stdout",
     "output_type": "stream",
     "text": [
      "probability of grade greater then 80 is: 15.87\n",
      "probability of grade greater then or equal to 60 is: 84.13\n",
      "probability of grade less then 60 is: 15.87\n"
     ]
    }
   ],
   "source": [
    "## Calculating the Normal distribution problem\n",
    "\n",
    "import math\n",
    "\n",
    "mean,std = 70,10\n",
    "\n",
    "cdf = lambda x: 0.5 * (1+math.erf((x-mean)/(std*(2**0.5))))\n",
    "\n",
    "## Grade greater then 80\n",
    "print('probability of grade greater then 80 is: {:.2f}'.format((1-cdf(80))*100))\n",
    "\n",
    "## Grade greater then or equal to 60.(>=60)\n",
    "\n",
    "print('probability of grade greater then or equal to 60 is: {:.2f}'.format((1-cdf(60))*100))\n",
    "\n",
    "# grade less then 60 \n",
    "print('probability of grade less then 60 is: {:.2f}'.format(cdf(60)*100))"
   ]
  },
  {
   "cell_type": "markdown",
   "metadata": {},
   "source": [
    "## Code 5"
   ]
  },
  {
   "cell_type": "code",
   "execution_count": 17,
   "metadata": {},
   "outputs": [
    {
     "name": "stdout",
     "output_type": "stream",
     "text": [
      "9800\n",
      "49\n",
      "205\n",
      "15\n",
      "0.0098\n"
     ]
    }
   ],
   "source": [
    "## Calculating the Central Limit theorem problem\n",
    "\n",
    "import math\n",
    "\n",
    "x = int(input())\n",
    "n = int(input())\n",
    "mu = int(input())\n",
    "sigma = int(input())\n",
    "\n",
    "mu_sum = n * mu\n",
    "sigma_sum = math.sqrt(n)* sigma\n",
    "\n",
    "def cdf(x,mu,sigma):\n",
    "    z = (x-mu)/sigma\n",
    "    return 0.5*(1+math.erf(z/(math.sqrt(2))))\n",
    "print(round(cdf(x,mu_sum,sigma_sum),4))"
   ]
  },
  {
   "cell_type": "markdown",
   "metadata": {},
   "source": [
    "## Code 6 "
   ]
  },
  {
   "cell_type": "code",
   "execution_count": 1,
   "metadata": {},
   "outputs": [
    {
     "name": "stdout",
     "output_type": "stream",
     "text": [
      "250\n",
      "100\n",
      "2.4\n",
      "2.0\n",
      "0.6915\n"
     ]
    }
   ],
   "source": [
    "## Calculating the central limit theorem problem 2\n",
    "\n",
    "import math\n",
    "\n",
    "x = int(input())\n",
    "n = int(input())\n",
    "mu = float(input())\n",
    "sigma = float(input())\n",
    "\n",
    "mu_sum = n * mu\n",
    "sigma_sum = math.sqrt(n)*sigma\n",
    "\n",
    "def cdf(x,mu,sigma):\n",
    "    z = (x-mu)/sigma\n",
    "    return 0.5*(1+math.erf(z/(math.sqrt(2))))\n",
    "print(round(cdf(x,mu_sum,sigma_sum),4))"
   ]
  },
  {
   "cell_type": "markdown",
   "metadata": {},
   "source": [
    "## Code 7 "
   ]
  },
  {
   "cell_type": "code",
   "execution_count": 2,
   "metadata": {},
   "outputs": [
    {
     "name": "stdout",
     "output_type": "stream",
     "text": [
      "100\n",
      "500\n",
      "80\n",
      ".95\n",
      "1.96\n",
      "484.32\n",
      "515.68\n"
     ]
    }
   ],
   "source": [
    "## Calculating the central limit theorem problem 3\n",
    "\n",
    "from math import sqrt\n",
    "\n",
    "s = int(input())\n",
    "mean = int(input())\n",
    "std = int(input())\n",
    "interval = float(input())\n",
    "z = float(input())\n",
    "\n",
    "print(round(mean-(std/sqrt(s))*z,2))\n",
    "print(round(mean+(std/sqrt(s))*z,2))"
   ]
  },
  {
   "cell_type": "markdown",
   "metadata": {},
   "source": [
    "## Code 8 "
   ]
  },
  {
   "cell_type": "code",
   "execution_count": 3,
   "metadata": {},
   "outputs": [
    {
     "name": "stdout",
     "output_type": "stream",
     "text": [
      "10\n",
      "10 9.8 8 7.8 7.7 7 6 5 4 2\n",
      "200 44 32 24 22 17 15 12 8 4\n",
      "0.612\n"
     ]
    }
   ],
   "source": [
    "## Calculating the Pearson correlation coefficient problem\n",
    "\n",
    "N = int(input())\n",
    "X = list(map(float,input().strip().split()))\n",
    "Y = list(map(float,input().strip().split()))\n",
    "\n",
    "mu_x = sum(X)/ N\n",
    "mu_y = sum(Y)/ N\n",
    "\n",
    "stdv_x = (sum([(i - mu_x)**2 for i in X])/N)**0.5\n",
    "stdv_y = (sum([(i-mu_y)**2 for i in Y])/N)**0.5\n",
    "\n",
    "covariance = sum([(X[i]-mu_x)* (Y[i]-mu_y) for i in range(N)])\n",
    "\n",
    "correlation_coefficient = covariance/(N * stdv_x * stdv_y)\n",
    "print(round(correlation_coefficient,3))"
   ]
  },
  {
   "cell_type": "markdown",
   "metadata": {},
   "source": [
    "## Code 9"
   ]
  },
  {
   "cell_type": "code",
   "execution_count": 4,
   "metadata": {},
   "outputs": [
    {
     "name": "stdout",
     "output_type": "stream",
     "text": [
      "95 85\n",
      "85 95\n",
      "80 70\n",
      "70 65\n",
      "60 70\n",
      "78.288\n"
     ]
    }
   ],
   "source": [
    "## calculating the least square regression problem \n",
    "n = 5\n",
    "\n",
    "xy = [map(int,input().split()) for _ in range(n)]\n",
    "\n",
    "sx, sy, sx2, sxy = map(sum, zip(*[(x, y, x**2, x*y) for x, y in xy]))\n",
    "\n",
    "b = (n* sxy - sx * sy) / (n * sx2 - sx**2)\n",
    "a = (sy / n) - b * (sx / n)\n",
    "\n",
    "print('{:.3f}'.format(a + b * 80))"
   ]
  },
  {
   "cell_type": "markdown",
   "metadata": {},
   "source": [
    "## Code 10"
   ]
  },
  {
   "cell_type": "code",
   "execution_count": 5,
   "metadata": {},
   "outputs": [
    {
     "name": "stdout",
     "output_type": "stream",
     "text": [
      "2 7\n",
      "0.18 0.89 109.85\n",
      "1.0 0.26 155.72\n",
      "0.92 0.11 137.66\n",
      "0.07 0.37 76.17\n",
      "0.85 0.16 139.75\n",
      "0.99 0.41 162.6\n",
      "0.87 0.47 151.77\n",
      "4\n",
      "0.49 0.18\n",
      "0.57 0.83\n",
      "0.56 0.64\n",
      "0.76 0.18\n",
      "105.21\n",
      "142.67\n",
      "132.94\n",
      "129.7\n"
     ]
    }
   ],
   "source": [
    "## calculating the multiple linear regression problem\n",
    "\n",
    "from sklearn import linear_model\n",
    "\n",
    "def solve(y,x,x_pred):\n",
    "    lm = linear_model.LinearRegression()\n",
    "    lm.fit(x,y)\n",
    "    y_pred=lm.predict(x_pred)\n",
    "    return y_pred\n",
    "\n",
    "def main():\n",
    "    m,n = map(int,input().strip().split())\n",
    "    y = []; x=[]; x_pred=[]\n",
    "    for _ in range(n):\n",
    "        *features,y_val = map(float,input().strip().split())\n",
    "        x.append(features)\n",
    "        y.append(y_val)\n",
    "    for _ in range(int(input())):\n",
    "        features = list(map(float,input().strip().split()))\n",
    "        x_pred.append(features)\n",
    "        \n",
    "    answer = solve(y, x, x_pred)\n",
    "    for num in answer:\n",
    "        print(round(num,2))\n",
    "        \n",
    "if __name__ == \"__main__\":\n",
    "    main()"
   ]
  },
  {
   "cell_type": "code",
   "execution_count": null,
   "metadata": {},
   "outputs": [],
   "source": []
  }
 ],
 "metadata": {
  "kernelspec": {
   "display_name": "Python 3",
   "language": "python",
   "name": "python3"
  },
  "language_info": {
   "codemirror_mode": {
    "name": "ipython",
    "version": 3
   },
   "file_extension": ".py",
   "mimetype": "text/x-python",
   "name": "python",
   "nbconvert_exporter": "python",
   "pygments_lexer": "ipython3",
   "version": "3.7.4"
  }
 },
 "nbformat": 4,
 "nbformat_minor": 2
}
